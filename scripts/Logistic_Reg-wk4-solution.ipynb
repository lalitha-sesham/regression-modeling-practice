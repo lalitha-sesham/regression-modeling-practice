{
 "cells": [
  {
   "cell_type": "code",
   "execution_count": 30,
   "metadata": {
    "collapsed": true
   },
   "outputs": [],
   "source": [
    "# import libraries \n",
    "import pandas as pd\n",
    "import numpy as np\n",
    "import matplotlib.pyplot as plt\n",
    "%matplotlib inline\n",
    "import statsmodels.api as sm\n",
    "import seaborn\n"
   ]
  },
  {
   "cell_type": "code",
   "execution_count": 31,
   "metadata": {
    "collapsed": false
   },
   "outputs": [],
   "source": [
    "# Read housing data set csv into memory\n",
    "df=pd.read_csv(\"../data/wdbc.csv\",low_memory='False')\n",
    "\n",
    "# bug fix for display formats to avoid run time errors\n",
    "pd.set_option('display.float_format', lambda x:'%f'%x)"
   ]
  },
  {
   "cell_type": "markdown",
   "metadata": {},
   "source": [
    " **Attribute Information:**\n",
    "1) ID number\n",
    "2) Diagnosis (M = malignant, B = benign)\n",
    "3-32)\n",
    "\n",
    "Ten real-valued features are computed for each cell nucleus:\n",
    "\n",
    "\ta) radius (mean of distances from center to points on the perimeter)\n",
    "\tb) texture (standard deviation of gray-scale values)\n",
    "\tc) perimeter\n",
    "\td) area\n",
    "\te) smoothness (local variation in radius lengths)\n",
    "\tf) compactness (perimeter^2 / area - 1.0)\n",
    "\tg) concavity (severity of concave portions of the contour)\n",
    "\th) concave points (number of concave portions of the contour)\n",
    "\ti) symmetry \n",
    "\tj) fractal dimension (\"coastline approximation\" - 1)\n",
    "\n",
    "The mean, standard error, and \"worst\" or largest (mean of the three\n",
    "largest values) of these features were computed for each image,\n",
    "resulting in 30 features.  For instance, field 3 is Mean Radius, field\n",
    "13 is Radius SE, field 23 is Worst Radius.\n",
    "\n",
    "All feature values are recoded with four significant digits.\n",
    "\n",
    "Missing attribute values: none\n",
    "\n",
    "Class distribution: 357 benign, 212 malignant"
   ]
  },
  {
   "cell_type": "code",
   "execution_count": 32,
   "metadata": {
    "collapsed": false
   },
   "outputs": [
    {
     "name": "stdout",
     "output_type": "stream",
     "text": [
      "Number of rows in data set -  569\n",
      "Number of features in data set -  32\n",
      "       ID RESULT  RADIUS_MN  TEXTURE_MN  PERIMETER_MN     AREA_MN  \\\n",
      "0  842302      M  17.990000   10.380000    122.800000 1001.000000   \n",
      "1  842517      M  20.570000   17.770000    132.900000 1326.000000   \n",
      "\n",
      "   SMOOTHNESS_MN  COMPACTNESS_MN  CONCAVITY_MN  CONCAVE_MN    ...      \\\n",
      "0       0.118400        0.277600      0.300100    0.147100    ...       \n",
      "1       0.084740        0.078640      0.086900    0.070170    ...       \n",
      "\n",
      "   RADIUS_L  TEXTURE_L  PERIMETER_L      AREA_L  SMOOTHNESS_L  COMPACTNESS_L  \\\n",
      "0 25.380000  17.330000   184.600000 2019.000000      0.162200       0.665600   \n",
      "1 24.990000  23.410000   158.800000 1956.000000      0.123800       0.186600   \n",
      "\n",
      "   CONCAVITY_L  CONCAVE_L  SYMMETRY_L  FRACTAL_L  \n",
      "0     0.711900   0.265400    0.460100   0.118900  \n",
      "1     0.241600   0.186000    0.275000   0.089020  \n",
      "\n",
      "[2 rows x 32 columns]\n"
     ]
    },
    {
     "data": {
      "text/html": [
       "<div>\n",
       "<table border=\"1\" class=\"dataframe\">\n",
       "  <thead>\n",
       "    <tr style=\"text-align: right;\">\n",
       "      <th></th>\n",
       "      <th>ID</th>\n",
       "      <th>RADIUS_MN</th>\n",
       "      <th>TEXTURE_MN</th>\n",
       "      <th>PERIMETER_MN</th>\n",
       "      <th>AREA_MN</th>\n",
       "      <th>SMOOTHNESS_MN</th>\n",
       "      <th>COMPACTNESS_MN</th>\n",
       "      <th>CONCAVITY_MN</th>\n",
       "      <th>CONCAVE_MN</th>\n",
       "      <th>SYMMETRY_MN</th>\n",
       "      <th>...</th>\n",
       "      <th>RADIUS_L</th>\n",
       "      <th>TEXTURE_L</th>\n",
       "      <th>PERIMETER_L</th>\n",
       "      <th>AREA_L</th>\n",
       "      <th>SMOOTHNESS_L</th>\n",
       "      <th>COMPACTNESS_L</th>\n",
       "      <th>CONCAVITY_L</th>\n",
       "      <th>CONCAVE_L</th>\n",
       "      <th>SYMMETRY_L</th>\n",
       "      <th>FRACTAL_L</th>\n",
       "    </tr>\n",
       "  </thead>\n",
       "  <tbody>\n",
       "    <tr>\n",
       "      <th>count</th>\n",
       "      <td>569.000000</td>\n",
       "      <td>569.000000</td>\n",
       "      <td>569.000000</td>\n",
       "      <td>569.000000</td>\n",
       "      <td>569.000000</td>\n",
       "      <td>569.000000</td>\n",
       "      <td>569.000000</td>\n",
       "      <td>569.000000</td>\n",
       "      <td>569.000000</td>\n",
       "      <td>569.000000</td>\n",
       "      <td>...</td>\n",
       "      <td>569.000000</td>\n",
       "      <td>569.000000</td>\n",
       "      <td>569.000000</td>\n",
       "      <td>569.000000</td>\n",
       "      <td>569.000000</td>\n",
       "      <td>569.000000</td>\n",
       "      <td>569.000000</td>\n",
       "      <td>569.000000</td>\n",
       "      <td>569.000000</td>\n",
       "      <td>569.000000</td>\n",
       "    </tr>\n",
       "    <tr>\n",
       "      <th>mean</th>\n",
       "      <td>30371831.432337</td>\n",
       "      <td>14.127292</td>\n",
       "      <td>19.289649</td>\n",
       "      <td>91.969033</td>\n",
       "      <td>654.889104</td>\n",
       "      <td>0.096360</td>\n",
       "      <td>0.104341</td>\n",
       "      <td>0.088799</td>\n",
       "      <td>0.048919</td>\n",
       "      <td>0.181162</td>\n",
       "      <td>...</td>\n",
       "      <td>16.269190</td>\n",
       "      <td>25.677223</td>\n",
       "      <td>107.261213</td>\n",
       "      <td>880.583128</td>\n",
       "      <td>0.132369</td>\n",
       "      <td>0.254265</td>\n",
       "      <td>0.272188</td>\n",
       "      <td>0.114606</td>\n",
       "      <td>0.290076</td>\n",
       "      <td>0.083946</td>\n",
       "    </tr>\n",
       "    <tr>\n",
       "      <th>std</th>\n",
       "      <td>125020585.612224</td>\n",
       "      <td>3.524049</td>\n",
       "      <td>4.301036</td>\n",
       "      <td>24.298981</td>\n",
       "      <td>351.914129</td>\n",
       "      <td>0.014064</td>\n",
       "      <td>0.052813</td>\n",
       "      <td>0.079720</td>\n",
       "      <td>0.038803</td>\n",
       "      <td>0.027414</td>\n",
       "      <td>...</td>\n",
       "      <td>4.833242</td>\n",
       "      <td>6.146258</td>\n",
       "      <td>33.602542</td>\n",
       "      <td>569.356993</td>\n",
       "      <td>0.022832</td>\n",
       "      <td>0.157336</td>\n",
       "      <td>0.208624</td>\n",
       "      <td>0.065732</td>\n",
       "      <td>0.061867</td>\n",
       "      <td>0.018061</td>\n",
       "    </tr>\n",
       "    <tr>\n",
       "      <th>min</th>\n",
       "      <td>8670.000000</td>\n",
       "      <td>6.981000</td>\n",
       "      <td>9.710000</td>\n",
       "      <td>43.790000</td>\n",
       "      <td>143.500000</td>\n",
       "      <td>0.052630</td>\n",
       "      <td>0.019380</td>\n",
       "      <td>0.000000</td>\n",
       "      <td>0.000000</td>\n",
       "      <td>0.106000</td>\n",
       "      <td>...</td>\n",
       "      <td>7.930000</td>\n",
       "      <td>12.020000</td>\n",
       "      <td>50.410000</td>\n",
       "      <td>185.200000</td>\n",
       "      <td>0.071170</td>\n",
       "      <td>0.027290</td>\n",
       "      <td>0.000000</td>\n",
       "      <td>0.000000</td>\n",
       "      <td>0.156500</td>\n",
       "      <td>0.055040</td>\n",
       "    </tr>\n",
       "    <tr>\n",
       "      <th>25%</th>\n",
       "      <td>869218.000000</td>\n",
       "      <td>11.700000</td>\n",
       "      <td>16.170000</td>\n",
       "      <td>75.170000</td>\n",
       "      <td>420.300000</td>\n",
       "      <td>0.086370</td>\n",
       "      <td>0.064920</td>\n",
       "      <td>0.029560</td>\n",
       "      <td>0.020310</td>\n",
       "      <td>0.161900</td>\n",
       "      <td>...</td>\n",
       "      <td>13.010000</td>\n",
       "      <td>21.080000</td>\n",
       "      <td>84.110000</td>\n",
       "      <td>515.300000</td>\n",
       "      <td>0.116600</td>\n",
       "      <td>0.147200</td>\n",
       "      <td>0.114500</td>\n",
       "      <td>0.064930</td>\n",
       "      <td>0.250400</td>\n",
       "      <td>0.071460</td>\n",
       "    </tr>\n",
       "    <tr>\n",
       "      <th>50%</th>\n",
       "      <td>906024.000000</td>\n",
       "      <td>13.370000</td>\n",
       "      <td>18.840000</td>\n",
       "      <td>86.240000</td>\n",
       "      <td>551.100000</td>\n",
       "      <td>0.095870</td>\n",
       "      <td>0.092630</td>\n",
       "      <td>0.061540</td>\n",
       "      <td>0.033500</td>\n",
       "      <td>0.179200</td>\n",
       "      <td>...</td>\n",
       "      <td>14.970000</td>\n",
       "      <td>25.410000</td>\n",
       "      <td>97.660000</td>\n",
       "      <td>686.500000</td>\n",
       "      <td>0.131300</td>\n",
       "      <td>0.211900</td>\n",
       "      <td>0.226700</td>\n",
       "      <td>0.099930</td>\n",
       "      <td>0.282200</td>\n",
       "      <td>0.080040</td>\n",
       "    </tr>\n",
       "    <tr>\n",
       "      <th>75%</th>\n",
       "      <td>8813129.000000</td>\n",
       "      <td>15.780000</td>\n",
       "      <td>21.800000</td>\n",
       "      <td>104.100000</td>\n",
       "      <td>782.700000</td>\n",
       "      <td>0.105300</td>\n",
       "      <td>0.130400</td>\n",
       "      <td>0.130700</td>\n",
       "      <td>0.074000</td>\n",
       "      <td>0.195700</td>\n",
       "      <td>...</td>\n",
       "      <td>18.790000</td>\n",
       "      <td>29.720000</td>\n",
       "      <td>125.400000</td>\n",
       "      <td>1084.000000</td>\n",
       "      <td>0.146000</td>\n",
       "      <td>0.339100</td>\n",
       "      <td>0.382900</td>\n",
       "      <td>0.161400</td>\n",
       "      <td>0.317900</td>\n",
       "      <td>0.092080</td>\n",
       "    </tr>\n",
       "    <tr>\n",
       "      <th>max</th>\n",
       "      <td>911320502.000000</td>\n",
       "      <td>28.110000</td>\n",
       "      <td>39.280000</td>\n",
       "      <td>188.500000</td>\n",
       "      <td>2501.000000</td>\n",
       "      <td>0.163400</td>\n",
       "      <td>0.345400</td>\n",
       "      <td>0.426800</td>\n",
       "      <td>0.201200</td>\n",
       "      <td>0.304000</td>\n",
       "      <td>...</td>\n",
       "      <td>36.040000</td>\n",
       "      <td>49.540000</td>\n",
       "      <td>251.200000</td>\n",
       "      <td>4254.000000</td>\n",
       "      <td>0.222600</td>\n",
       "      <td>1.058000</td>\n",
       "      <td>1.252000</td>\n",
       "      <td>0.291000</td>\n",
       "      <td>0.663800</td>\n",
       "      <td>0.207500</td>\n",
       "    </tr>\n",
       "  </tbody>\n",
       "</table>\n",
       "<p>8 rows × 31 columns</p>\n",
       "</div>"
      ],
      "text/plain": [
       "                    ID  RADIUS_MN  TEXTURE_MN  PERIMETER_MN     AREA_MN  \\\n",
       "count       569.000000 569.000000  569.000000    569.000000  569.000000   \n",
       "mean   30371831.432337  14.127292   19.289649     91.969033  654.889104   \n",
       "std   125020585.612224   3.524049    4.301036     24.298981  351.914129   \n",
       "min        8670.000000   6.981000    9.710000     43.790000  143.500000   \n",
       "25%      869218.000000  11.700000   16.170000     75.170000  420.300000   \n",
       "50%      906024.000000  13.370000   18.840000     86.240000  551.100000   \n",
       "75%     8813129.000000  15.780000   21.800000    104.100000  782.700000   \n",
       "max   911320502.000000  28.110000   39.280000    188.500000 2501.000000   \n",
       "\n",
       "       SMOOTHNESS_MN  COMPACTNESS_MN  CONCAVITY_MN  CONCAVE_MN  SYMMETRY_MN  \\\n",
       "count     569.000000      569.000000    569.000000  569.000000   569.000000   \n",
       "mean        0.096360        0.104341      0.088799    0.048919     0.181162   \n",
       "std         0.014064        0.052813      0.079720    0.038803     0.027414   \n",
       "min         0.052630        0.019380      0.000000    0.000000     0.106000   \n",
       "25%         0.086370        0.064920      0.029560    0.020310     0.161900   \n",
       "50%         0.095870        0.092630      0.061540    0.033500     0.179200   \n",
       "75%         0.105300        0.130400      0.130700    0.074000     0.195700   \n",
       "max         0.163400        0.345400      0.426800    0.201200     0.304000   \n",
       "\n",
       "         ...       RADIUS_L  TEXTURE_L  PERIMETER_L      AREA_L  SMOOTHNESS_L  \\\n",
       "count    ...     569.000000 569.000000   569.000000  569.000000    569.000000   \n",
       "mean     ...      16.269190  25.677223   107.261213  880.583128      0.132369   \n",
       "std      ...       4.833242   6.146258    33.602542  569.356993      0.022832   \n",
       "min      ...       7.930000  12.020000    50.410000  185.200000      0.071170   \n",
       "25%      ...      13.010000  21.080000    84.110000  515.300000      0.116600   \n",
       "50%      ...      14.970000  25.410000    97.660000  686.500000      0.131300   \n",
       "75%      ...      18.790000  29.720000   125.400000 1084.000000      0.146000   \n",
       "max      ...      36.040000  49.540000   251.200000 4254.000000      0.222600   \n",
       "\n",
       "       COMPACTNESS_L  CONCAVITY_L  CONCAVE_L  SYMMETRY_L  FRACTAL_L  \n",
       "count     569.000000   569.000000 569.000000  569.000000 569.000000  \n",
       "mean        0.254265     0.272188   0.114606    0.290076   0.083946  \n",
       "std         0.157336     0.208624   0.065732    0.061867   0.018061  \n",
       "min         0.027290     0.000000   0.000000    0.156500   0.055040  \n",
       "25%         0.147200     0.114500   0.064930    0.250400   0.071460  \n",
       "50%         0.211900     0.226700   0.099930    0.282200   0.080040  \n",
       "75%         0.339100     0.382900   0.161400    0.317900   0.092080  \n",
       "max         1.058000     1.252000   0.291000    0.663800   0.207500  \n",
       "\n",
       "[8 rows x 31 columns]"
      ]
     },
     "execution_count": 32,
     "metadata": {},
     "output_type": "execute_result"
    }
   ],
   "source": [
    "# Upper case all data frame column names\n",
    "df.columns=map(str.upper, df.columns)\n",
    "\n",
    "#check dimensions of data set\n",
    "(rows,features)= df.shape\n",
    "print \"Number of rows in data set - \", rows\n",
    "print \"Number of features in data set - \",features\n",
    "print df.head(2)\n",
    "df.describe()"
   ]
  },
  {
   "cell_type": "code",
   "execution_count": 35,
   "metadata": {
    "collapsed": false
   },
   "outputs": [],
   "source": [
    "from sklearn.preprocessing import LabelBinarizer\n",
    "lb=LabelBinarizer()\n",
    "df['RESULT']=lb.fit_transform(df['RESULT'])"
   ]
  },
  {
   "cell_type": "code",
   "execution_count": 37,
   "metadata": {
    "collapsed": false
   },
   "outputs": [],
   "source": [
    "df['RESULT']=pd.to_numeric(df['RESULT'])"
   ]
  },
  {
   "cell_type": "code",
   "execution_count": 38,
   "metadata": {
    "collapsed": false
   },
   "outputs": [
    {
     "data": {
      "text/plain": [
       "count   569.000000\n",
       "mean      0.372583\n",
       "std       0.483918\n",
       "min       0.000000\n",
       "25%       0.000000\n",
       "50%       0.000000\n",
       "75%       1.000000\n",
       "max       1.000000\n",
       "Name: RESULT, dtype: float64"
      ]
     },
     "execution_count": 38,
     "metadata": {},
     "output_type": "execute_result"
    }
   ],
   "source": [
    "df['RESULT'].describe()"
   ]
  },
  {
   "cell_type": "markdown",
   "metadata": {},
   "source": [
    "### Normalize variables"
   ]
  },
  {
   "cell_type": "markdown",
   "metadata": {},
   "source": [
    "*Normalization transforms variables to have zero mean and unit standard deviation*"
   ]
  },
  {
   "cell_type": "code",
   "execution_count": 39,
   "metadata": {
    "collapsed": false
   },
   "outputs": [
    {
     "name": "stdout",
     "output_type": "stream",
     "text": [
      "   RADIUS_MN  TEXTURE_MN  PERIMETER_MN     AREA_MN  SMOOTHNESS_MN  \\\n",
      "0  17.990000   10.380000    122.800000 1001.000000       0.118400   \n",
      "1  20.570000   17.770000    132.900000 1326.000000       0.084740   \n",
      "\n",
      "   COMPACTNESS_MN  CONCAVITY_MN  CONCAVE_MN  SYMMETRY_MN  FRACTAL_MN  \\\n",
      "0        0.277600      0.300100    0.147100     0.241900    0.078710   \n",
      "1        0.078640      0.086900    0.070170     0.181200    0.056670   \n",
      "\n",
      "     ...      RADIUS_L  TEXTURE_L  PERIMETER_L      AREA_L  SMOOTHNESS_L  \\\n",
      "0    ...     25.380000  17.330000   184.600000 2019.000000      0.162200   \n",
      "1    ...     24.990000  23.410000   158.800000 1956.000000      0.123800   \n",
      "\n",
      "   COMPACTNESS_L  CONCAVITY_L  CONCAVE_L  SYMMETRY_L  FRACTAL_L  \n",
      "0       0.665600     0.711900   0.265400    0.460100   0.118900  \n",
      "1       0.186600     0.241600   0.186000    0.275000   0.089020  \n",
      "\n",
      "[2 rows x 30 columns]\n"
     ]
    }
   ],
   "source": [
    "df_numeric=df.drop(['ID','RESULT'], axis=1)\n",
    "print df_numeric.head(2)\n",
    "input=(df_numeric-df_numeric.mean())/df_numeric.std()"
   ]
  },
  {
   "cell_type": "code",
   "execution_count": 40,
   "metadata": {
    "collapsed": false
   },
   "outputs": [
    {
     "name": "stdout",
     "output_type": "stream",
     "text": [
      "   RADIUS_MN  TEXTURE_MN  PERIMETER_MN  AREA_MN  SMOOTHNESS_MN  \\\n",
      "0   1.096100   -2.071512      1.268817 0.983510       1.567087   \n",
      "\n",
      "   COMPACTNESS_MN  CONCAVITY_MN  CONCAVE_MN  SYMMETRY_MN  FRACTAL_MN  \\\n",
      "0        3.280628      2.650542    2.530249     2.215566    2.253764   \n",
      "\n",
      "     ...      RADIUS_L  TEXTURE_L  PERIMETER_L   AREA_L  SMOOTHNESS_L  \\\n",
      "0    ...      1.885031  -1.358098     2.301575 1.999478      1.306537   \n",
      "\n",
      "   COMPACTNESS_L  CONCAVITY_L  CONCAVE_L  SYMMETRY_L  FRACTAL_L  \n",
      "0       2.614365     2.107672   2.294058    2.748204   1.935312  \n",
      "\n",
      "[1 rows x 30 columns]\n"
     ]
    }
   ],
   "source": [
    "print input.head(1)"
   ]
  },
  {
   "cell_type": "code",
   "execution_count": 41,
   "metadata": {
    "collapsed": false
   },
   "outputs": [],
   "source": [
    "data=pd.DataFrame()\n",
    "data=pd.concat([df[['ID','RESULT']],input],axis=1)"
   ]
  },
  {
   "cell_type": "code",
   "execution_count": 42,
   "metadata": {
    "collapsed": false
   },
   "outputs": [
    {
     "name": "stdout",
     "output_type": "stream",
     "text": [
      "         ID  RESULT  RADIUS_MN  TEXTURE_MN  PERIMETER_MN  AREA_MN  \\\n",
      "0    842302       1   1.096100   -2.071512      1.268817 0.983510   \n",
      "1    842517       1   1.828212   -0.353322      1.684473 1.907030   \n",
      "2  84300903       1   1.578499    0.455786      1.565126 1.557513   \n",
      "\n",
      "   SMOOTHNESS_MN  COMPACTNESS_MN  CONCAVITY_MN  CONCAVE_MN    ...      \\\n",
      "0       1.567087        3.280628      2.650542    2.530249    ...       \n",
      "1      -0.826235       -0.486643     -0.023825    0.547662    ...       \n",
      "2       0.941382        1.052000      1.362280    2.035440    ...       \n",
      "\n",
      "   RADIUS_L  TEXTURE_L  PERIMETER_L   AREA_L  SMOOTHNESS_L  COMPACTNESS_L  \\\n",
      "0  1.885031  -1.358098     2.301575 1.999478      1.306537       2.614365   \n",
      "1  1.804340  -0.368879     1.533776 1.888827     -0.375282      -0.430066   \n",
      "2  1.510541  -0.023953     1.346291 1.455004      0.526944       1.081980   \n",
      "\n",
      "   CONCAVITY_L  CONCAVE_L  SYMMETRY_L  FRACTAL_L  \n",
      "0     2.107672   2.294058    2.748204   1.935312  \n",
      "1    -0.146620   1.086129   -0.243675   0.280943  \n",
      "2     0.854222   1.953282    1.151242   0.201214  \n",
      "\n",
      "[3 rows x 32 columns]\n",
      "ID + RESULT + RADIUS_MN + TEXTURE_MN + PERIMETER_MN + AREA_MN + SMOOTHNESS_MN + COMPACTNESS_MN + CONCAVITY_MN + CONCAVE_MN + SYMMETRY_MN + FRACTAL_MN + RADIUS_SE + TEXTURE_SE + PERIMETER_SE + AREA_SE + SMOOTHNESS_SE + COMPACTNESS_SE + CONCAVITY_SE + CONCAVE_SE + SYMMETRY_SE + FRACTAL_SE + RADIUS_L + TEXTURE_L + PERIMETER_L + AREA_L + SMOOTHNESS_L + COMPACTNESS_L + CONCAVITY_L + CONCAVE_L + SYMMETRY_L + FRACTAL_L\n"
     ]
    }
   ],
   "source": [
    "print data.head(3)\n",
    "print ' + '.join(data.columns)"
   ]
  },
  {
   "cell_type": "code",
   "execution_count": 43,
   "metadata": {
    "collapsed": false
   },
   "outputs": [
    {
     "name": "stdout",
     "output_type": "stream",
     "text": [
      "(569, 32)\n"
     ]
    }
   ],
   "source": [
    "print data.shape"
   ]
  },
  {
   "cell_type": "markdown",
   "metadata": {},
   "source": [
    "## Build model"
   ]
  },
  {
   "cell_type": "code",
   "execution_count": 44,
   "metadata": {
    "collapsed": false
   },
   "outputs": [],
   "source": [
    "import statsmodels.formula.api as smf"
   ]
  },
  {
   "cell_type": "markdown",
   "metadata": {},
   "source": [
    "** Explore Correlation between house value  and AGE**"
   ]
  },
  {
   "cell_type": "code",
   "execution_count": 46,
   "metadata": {
    "collapsed": false,
    "scrolled": true
   },
   "outputs": [
    {
     "name": "stdout",
     "output_type": "stream",
     "text": [
      "Logistic regression model \n",
      "Optimization terminated successfully.\n",
      "         Current function value: 0.128410\n",
      "         Iterations 10\n",
      "                           Logit Regression Results                           \n",
      "==============================================================================\n",
      "Dep. Variable:                 RESULT   No. Observations:                  569\n",
      "Model:                          Logit   Df Residuals:                      558\n",
      "Method:                           MLE   Df Model:                           10\n",
      "Date:                Mon, 03 Apr 2017   Pseudo R-squ.:                  0.8055\n",
      "Time:                        01:04:07   Log-Likelihood:                -73.065\n",
      "converged:                       True   LL-Null:                       -375.72\n",
      "                                        LLR p-value:                1.282e-123\n",
      "==================================================================================\n",
      "                     coef    std err          z      P>|z|      [95.0% Conf. Int.]\n",
      "----------------------------------------------------------------------------------\n",
      "Intercept          0.4870      0.564      0.863      0.388        -0.619     1.593\n",
      "RADIUS_MN         -7.2219     13.095     -0.551      0.581       -32.887    18.444\n",
      "TEXTURE_MN         1.6548      0.278      5.961      0.000         1.111     2.199\n",
      "PERIMETER_MN      -1.7376     12.275     -0.142      0.887       -25.796    22.321\n",
      "AREA_MN           14.0048      5.891      2.377      0.017         2.459    25.551\n",
      "SMOOTHNESS_MN      1.0750      0.449      2.392      0.017         0.194     1.956\n",
      "COMPACTNESS_MN    -0.0772      1.074     -0.072      0.943        -2.183     2.028\n",
      "CONCAVITY_MN       0.6751      0.647      1.043      0.297        -0.594     1.944\n",
      "CONCAVE_MN         2.5929      1.107      2.342      0.019         0.423     4.763\n",
      "SYMMETRY_MN        0.4463      0.291      1.531      0.126        -0.125     1.017\n",
      "FRACTAL_MN        -0.4825      0.604     -0.799      0.424        -1.666     0.701\n",
      "==================================================================================\n"
     ]
    }
   ],
   "source": [
    "print (\"Logistic regression model \")\n",
    "lreg1 = smf.logit(formula = 'RESULT ~ RADIUS_MN + TEXTURE_MN + PERIMETER_MN + AREA_MN + SMOOTHNESS_MN + COMPACTNESS_MN + CONCAVITY_MN + CONCAVE_MN + SYMMETRY_MN + FRACTAL_MN ', data = data).fit()\n",
    "print (lreg1.summary())\n"
   ]
  },
  {
   "cell_type": "code",
   "execution_count": 49,
   "metadata": {
    "collapsed": false
   },
   "outputs": [
    {
     "name": "stdout",
     "output_type": "stream",
     "text": [
      "Intercept         0.487017\n",
      "RADIUS_MN        -7.221851\n",
      "TEXTURE_MN        1.654756\n",
      "PERIMETER_MN     -1.737630\n",
      "AREA_MN          14.004846\n",
      "SMOOTHNESS_MN     1.074953\n",
      "COMPACTNESS_MN   -0.077235\n",
      "CONCAVITY_MN      0.675123\n",
      "CONCAVE_MN        2.592874\n",
      "SYMMETRY_MN       0.446256\n",
      "FRACTAL_MN       -0.482484\n",
      "dtype: float64\n"
     ]
    }
   ],
   "source": [
    "print lreg1.params"
   ]
  },
  {
   "cell_type": "code",
   "execution_count": 48,
   "metadata": {
    "collapsed": false
   },
   "outputs": [
    {
     "name": "stdout",
     "output_type": "stream",
     "text": [
      "Odds Ratios\n",
      "Intercept              1.627454\n",
      "RADIUS_MN              0.000730\n",
      "TEXTURE_MN             5.231804\n",
      "PERIMETER_MN           0.175937\n",
      "AREA_MN          1208445.767572\n",
      "SMOOTHNESS_MN          2.929856\n",
      "COMPACTNESS_MN         0.925673\n",
      "CONCAVITY_MN           1.964275\n",
      "CONCAVE_MN            13.368140\n",
      "SYMMETRY_MN            1.562452\n",
      "FRACTAL_MN             0.617248\n",
      "dtype: float64\n",
      "                Lower CI            Upper CI             OR\n",
      "Intercept       0.538466            4.918796       1.627454\n",
      "RADIUS_MN       0.000000    102335945.217832       0.000730\n",
      "TEXTURE_MN      3.036540            9.014133       5.231804\n",
      "PERIMETER_MN    0.000000   4941387162.006423       0.175937\n",
      "AREA_MN        11.691772 124903319434.974350 1208445.767572\n",
      "SMOOTHNESS_MN   1.214230            7.069548       2.929856\n",
      "COMPACTNESS_MN  0.112713            7.602216       0.925673\n",
      "CONCAVITY_MN    0.552327            6.985677       1.964275\n",
      "CONCAVE_MN      1.526800          117.046894      13.368140\n",
      "SYMMETRY_MN     0.882554            2.766128       1.562452\n",
      "FRACTAL_MN      0.188922            2.016682       0.617248\n"
     ]
    }
   ],
   "source": [
    "# odds ratios\n",
    "print (\"Odds Ratios\")\n",
    "print (np.exp(lreg1.params))\n",
    "\n",
    "# odd ratios with 95% confidence intervals\n",
    "params = lreg1.params\n",
    "conf = lreg1.conf_int()\n",
    "conf['OR'] = params\n",
    "conf.columns = ['Lower CI', 'Upper CI', 'OR']\n",
    "print (np.exp(conf))\n"
   ]
  },
  {
   "cell_type": "code",
   "execution_count": 56,
   "metadata": {
    "collapsed": false
   },
   "outputs": [
    {
     "name": "stdout",
     "output_type": "stream",
     "text": [
      "Logistic regression model \n",
      "Optimization terminated successfully.\n",
      "         Current function value: 0.057369\n",
      "         Iterations 12\n",
      "                           Logit Regression Results                           \n",
      "==============================================================================\n",
      "Dep. Variable:                 RESULT   No. Observations:                  569\n",
      "Model:                          Logit   Df Residuals:                      556\n",
      "Method:                           MLE   Df Model:                           12\n",
      "Date:                Mon, 03 Apr 2017   Pseudo R-squ.:                  0.9131\n",
      "Time:                        01:25:02   Log-Likelihood:                -32.643\n",
      "converged:                       True   LL-Null:                       -375.72\n",
      "                                        LLR p-value:                4.051e-139\n",
      "=================================================================================\n",
      "                    coef    std err          z      P>|z|      [95.0% Conf. Int.]\n",
      "---------------------------------------------------------------------------------\n",
      "Intercept         1.8741      0.807      2.321      0.020         0.292     3.457\n",
      "TEXTURE_MN       -0.4278      1.046     -0.409      0.682        -2.478     1.622\n",
      "AREA_MN          -4.1119      3.503     -1.174      0.240       -10.977     2.753\n",
      "SMOOTHNESS_MN    -0.6237      0.921     -0.677      0.498        -2.428     1.181\n",
      "CONCAVE_MN        2.0667      1.646      1.256      0.209        -1.159     5.292\n",
      "TEXTURE_SE       -1.3055      0.892     -1.463      0.143        -3.054     0.443\n",
      "AREA_SE           8.5655      2.597      3.298      0.001         3.475    13.656\n",
      "SMOOTHNESS_SE     0.3031      0.826      0.367      0.714        -1.315     1.921\n",
      "CONCAVE_SE       -0.7966      1.426     -0.559      0.576        -3.592     1.999\n",
      "TEXTURE_L         3.2849      1.464      2.244      0.025         0.416     6.154\n",
      "AREA_L            9.5017      5.131      1.852      0.064        -0.555    19.559\n",
      "SMOOTHNESS_L      1.3429      1.122      1.197      0.231        -0.856     3.542\n",
      "CONCAVE_L         2.8480      1.948      1.462      0.144        -0.970     6.666\n",
      "=================================================================================\n"
     ]
    }
   ],
   "source": [
    "print (\"Logistic regression model \")\n",
    "lreg2 = smf.logit(formula = 'RESULT ~  TEXTURE_MN +  AREA_MN + SMOOTHNESS_MN + CONCAVE_MN + TEXTURE_SE+ AREA_SE + SMOOTHNESS_SE +  CONCAVE_SE +TEXTURE_L+ AREA_L + SMOOTHNESS_L +  CONCAVE_L ', data = data).fit()\n",
    "print (lreg2.summary())"
   ]
  },
  {
   "cell_type": "code",
   "execution_count": 57,
   "metadata": {
    "collapsed": false
   },
   "outputs": [
    {
     "name": "stdout",
     "output_type": "stream",
     "text": [
      "Odds Ratios\n",
      "Intercept           6.515172\n",
      "TEXTURE_MN          0.651920\n",
      "AREA_MN             0.016376\n",
      "SMOOTHNESS_MN       0.535937\n",
      "CONCAVE_MN          7.898563\n",
      "TEXTURE_SE          0.271023\n",
      "AREA_SE          5247.456499\n",
      "SMOOTHNESS_SE       1.354028\n",
      "CONCAVE_SE          0.450856\n",
      "TEXTURE_L          26.707105\n",
      "AREA_L          13382.546278\n",
      "SMOOTHNESS_L        3.830140\n",
      "CONCAVE_L          17.252942\n",
      "dtype: float64\n",
      "               Lower CI         Upper CI           OR\n",
      "Intercept      1.338633        31.709571     6.515172\n",
      "TEXTURE_MN     0.083950         5.062517     0.651920\n",
      "AREA_MN        0.000017        15.694363     0.016376\n",
      "SMOOTHNESS_MN  0.088178         3.257385     0.535937\n",
      "CONCAVE_MN     0.313858       198.775399     7.898563\n",
      "TEXTURE_SE     0.047147         1.557973     0.271023\n",
      "AREA_SE       32.290546    852751.126395  5247.456499\n",
      "SMOOTHNESS_SE  0.268423         6.830229     1.354028\n",
      "CONCAVE_SE     0.027543         7.380093     0.450856\n",
      "TEXTURE_L      1.515244       470.729255    26.707105\n",
      "AREA_L         0.573956 312031847.506453 13382.546278\n",
      "SMOOTHNESS_L   0.424978        34.519347     3.830140\n",
      "CONCAVE_L      0.379200       784.979698    17.252942\n"
     ]
    }
   ],
   "source": [
    "# odds ratios\n",
    "print (\"Odds Ratios\")\n",
    "print (np.exp(lreg2.params))\n",
    "\n",
    "# odd ratios with 95% confidence intervals\n",
    "params = lreg2.params\n",
    "conf = lreg2.conf_int()\n",
    "conf['OR'] = params\n",
    "conf.columns = ['Lower CI', 'Upper CI', 'OR']\n",
    "print (np.exp(conf))\n"
   ]
  },
  {
   "cell_type": "code",
   "execution_count": null,
   "metadata": {
    "collapsed": true
   },
   "outputs": [],
   "source": []
  }
 ],
 "metadata": {
  "kernelspec": {
   "display_name": "Python 2",
   "language": "python",
   "name": "python2"
  },
  "language_info": {
   "codemirror_mode": {
    "name": "ipython",
    "version": 2
   },
   "file_extension": ".py",
   "mimetype": "text/x-python",
   "name": "python",
   "nbconvert_exporter": "python",
   "pygments_lexer": "ipython2",
   "version": "2.7.13"
  }
 },
 "nbformat": 4,
 "nbformat_minor": 0
}
