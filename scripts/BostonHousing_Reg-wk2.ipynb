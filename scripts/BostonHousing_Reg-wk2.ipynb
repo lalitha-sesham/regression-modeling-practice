{
 "cells": [
  {
   "cell_type": "code",
   "execution_count": 30,
   "metadata": {
    "collapsed": true
   },
   "outputs": [],
   "source": [
    "# import libraries \n",
    "import pandas as pd\n",
    "import numpy as np\n",
    "import matplotlib.pyplot as plt\n",
    "%matplotlib inline"
   ]
  },
  {
   "cell_type": "code",
   "execution_count": 31,
   "metadata": {
    "collapsed": false
   },
   "outputs": [],
   "source": [
    "# Read housing data set csv into memory\n",
    "data=pd.read_csv(\"../data/Boston_housing_data.csv\",low_memory='False')\n",
    "\n",
    "# bug fix for display formats to avoid run time errors\n",
    "pd.set_option('display.float_format', lambda x:'%f'%x)"
   ]
  },
  {
   "cell_type": "code",
   "execution_count": 32,
   "metadata": {
    "collapsed": false
   },
   "outputs": [
    {
     "name": "stdout",
     "output_type": "stream",
     "text": [
      "Number of rows in data set -  506\n",
      "Number of features in data set -  14\n",
      "      CRIM        ZN    INDUS  CHAS      NOX       RM        AGE      DIS  \\\n",
      "0 0.006320 18.000000 2.310000     0 0.538000 6.575000  65.200000 4.090000   \n",
      "1 0.027310  0.000000 7.070000     0 0.469000 6.421000  78.900000 4.967100   \n",
      "2 0.027290  0.000000 7.070000     0 0.469000 7.185000  61.100000 4.967100   \n",
      "3 0.032370  0.000000 2.180000     0 0.458000 6.998000  45.800000 6.062200   \n",
      "4 0.069050  0.000000 2.180000     0 0.458000 7.147000  54.200000 6.062200   \n",
      "5 0.029850  0.000000 2.180000     0 0.458000 6.430000  58.700000 6.062200   \n",
      "6 0.088290 12.500000 7.870000     0 0.524000 6.012000  66.600000 5.560500   \n",
      "7 0.144550 12.500000 7.870000     0 0.524000 6.172000  96.100000 5.950500   \n",
      "8 0.211240 12.500000 7.870000     0 0.524000 5.631000 100.000000 6.082100   \n",
      "9 0.170040 12.500000 7.870000     0 0.524000 6.004000  85.900000 6.592100   \n",
      "\n",
      "   RAD  TAX   PTRATIO          B     LSTAT      MEDV  \n",
      "0    1  296 15.300000 396.900000  4.980000 24.000000  \n",
      "1    2  242 17.800000 396.900000  9.140000 21.600000  \n",
      "2    2  242 17.800000 392.830000  4.030000 34.700000  \n",
      "3    3  222 18.700000 394.630000  2.940000 33.400000  \n",
      "4    3  222 18.700000 396.900000  5.330000 36.200000  \n",
      "5    3  222 18.700000 394.120000  5.210000 28.700000  \n",
      "6    5  311 15.200000 395.600000 12.430000 22.900000  \n",
      "7    5  311 15.200000 396.900000 19.150000 27.100000  \n",
      "8    5  311 15.200000 386.630000 29.930000 16.500000  \n",
      "9    5  311 15.200000 386.710000 17.100000 18.900000  \n"
     ]
    },
    {
     "data": {
      "text/html": [
       "<div>\n",
       "<table border=\"1\" class=\"dataframe\">\n",
       "  <thead>\n",
       "    <tr style=\"text-align: right;\">\n",
       "      <th></th>\n",
       "      <th>CRIM</th>\n",
       "      <th>ZN</th>\n",
       "      <th>INDUS</th>\n",
       "      <th>CHAS</th>\n",
       "      <th>NOX</th>\n",
       "      <th>RM</th>\n",
       "      <th>AGE</th>\n",
       "      <th>DIS</th>\n",
       "      <th>RAD</th>\n",
       "      <th>TAX</th>\n",
       "      <th>PTRATIO</th>\n",
       "      <th>B</th>\n",
       "      <th>LSTAT</th>\n",
       "      <th>MEDV</th>\n",
       "    </tr>\n",
       "  </thead>\n",
       "  <tbody>\n",
       "    <tr>\n",
       "      <th>count</th>\n",
       "      <td>506.000000</td>\n",
       "      <td>506.000000</td>\n",
       "      <td>506.000000</td>\n",
       "      <td>506.000000</td>\n",
       "      <td>506.000000</td>\n",
       "      <td>506.000000</td>\n",
       "      <td>506.000000</td>\n",
       "      <td>506.000000</td>\n",
       "      <td>506.000000</td>\n",
       "      <td>506.000000</td>\n",
       "      <td>506.000000</td>\n",
       "      <td>506.000000</td>\n",
       "      <td>506.000000</td>\n",
       "      <td>506.000000</td>\n",
       "    </tr>\n",
       "    <tr>\n",
       "      <th>mean</th>\n",
       "      <td>3.613524</td>\n",
       "      <td>11.363636</td>\n",
       "      <td>11.136779</td>\n",
       "      <td>0.069170</td>\n",
       "      <td>0.554695</td>\n",
       "      <td>6.284634</td>\n",
       "      <td>68.574901</td>\n",
       "      <td>3.795043</td>\n",
       "      <td>9.549407</td>\n",
       "      <td>408.237154</td>\n",
       "      <td>18.455534</td>\n",
       "      <td>356.674032</td>\n",
       "      <td>12.653063</td>\n",
       "      <td>22.532806</td>\n",
       "    </tr>\n",
       "    <tr>\n",
       "      <th>std</th>\n",
       "      <td>8.601545</td>\n",
       "      <td>23.322453</td>\n",
       "      <td>6.860353</td>\n",
       "      <td>0.253994</td>\n",
       "      <td>0.115878</td>\n",
       "      <td>0.702617</td>\n",
       "      <td>28.148861</td>\n",
       "      <td>2.105710</td>\n",
       "      <td>8.707259</td>\n",
       "      <td>168.537116</td>\n",
       "      <td>2.164946</td>\n",
       "      <td>91.294864</td>\n",
       "      <td>7.141062</td>\n",
       "      <td>9.197104</td>\n",
       "    </tr>\n",
       "    <tr>\n",
       "      <th>min</th>\n",
       "      <td>0.006320</td>\n",
       "      <td>0.000000</td>\n",
       "      <td>0.460000</td>\n",
       "      <td>0.000000</td>\n",
       "      <td>0.385000</td>\n",
       "      <td>3.561000</td>\n",
       "      <td>2.900000</td>\n",
       "      <td>1.129600</td>\n",
       "      <td>1.000000</td>\n",
       "      <td>187.000000</td>\n",
       "      <td>12.600000</td>\n",
       "      <td>0.320000</td>\n",
       "      <td>1.730000</td>\n",
       "      <td>5.000000</td>\n",
       "    </tr>\n",
       "    <tr>\n",
       "      <th>25%</th>\n",
       "      <td>0.082045</td>\n",
       "      <td>0.000000</td>\n",
       "      <td>5.190000</td>\n",
       "      <td>0.000000</td>\n",
       "      <td>0.449000</td>\n",
       "      <td>5.885500</td>\n",
       "      <td>45.025000</td>\n",
       "      <td>2.100175</td>\n",
       "      <td>4.000000</td>\n",
       "      <td>279.000000</td>\n",
       "      <td>17.400000</td>\n",
       "      <td>375.377500</td>\n",
       "      <td>6.950000</td>\n",
       "      <td>17.025000</td>\n",
       "    </tr>\n",
       "    <tr>\n",
       "      <th>50%</th>\n",
       "      <td>0.256510</td>\n",
       "      <td>0.000000</td>\n",
       "      <td>9.690000</td>\n",
       "      <td>0.000000</td>\n",
       "      <td>0.538000</td>\n",
       "      <td>6.208500</td>\n",
       "      <td>77.500000</td>\n",
       "      <td>3.207450</td>\n",
       "      <td>5.000000</td>\n",
       "      <td>330.000000</td>\n",
       "      <td>19.050000</td>\n",
       "      <td>391.440000</td>\n",
       "      <td>11.360000</td>\n",
       "      <td>21.200000</td>\n",
       "    </tr>\n",
       "    <tr>\n",
       "      <th>75%</th>\n",
       "      <td>3.677082</td>\n",
       "      <td>12.500000</td>\n",
       "      <td>18.100000</td>\n",
       "      <td>0.000000</td>\n",
       "      <td>0.624000</td>\n",
       "      <td>6.623500</td>\n",
       "      <td>94.075000</td>\n",
       "      <td>5.188425</td>\n",
       "      <td>24.000000</td>\n",
       "      <td>666.000000</td>\n",
       "      <td>20.200000</td>\n",
       "      <td>396.225000</td>\n",
       "      <td>16.955000</td>\n",
       "      <td>25.000000</td>\n",
       "    </tr>\n",
       "    <tr>\n",
       "      <th>max</th>\n",
       "      <td>88.976200</td>\n",
       "      <td>100.000000</td>\n",
       "      <td>27.740000</td>\n",
       "      <td>1.000000</td>\n",
       "      <td>0.871000</td>\n",
       "      <td>8.780000</td>\n",
       "      <td>100.000000</td>\n",
       "      <td>12.126500</td>\n",
       "      <td>24.000000</td>\n",
       "      <td>711.000000</td>\n",
       "      <td>22.000000</td>\n",
       "      <td>396.900000</td>\n",
       "      <td>37.970000</td>\n",
       "      <td>50.000000</td>\n",
       "    </tr>\n",
       "  </tbody>\n",
       "</table>\n",
       "</div>"
      ],
      "text/plain": [
       "            CRIM         ZN      INDUS       CHAS        NOX         RM  \\\n",
       "count 506.000000 506.000000 506.000000 506.000000 506.000000 506.000000   \n",
       "mean    3.613524  11.363636  11.136779   0.069170   0.554695   6.284634   \n",
       "std     8.601545  23.322453   6.860353   0.253994   0.115878   0.702617   \n",
       "min     0.006320   0.000000   0.460000   0.000000   0.385000   3.561000   \n",
       "25%     0.082045   0.000000   5.190000   0.000000   0.449000   5.885500   \n",
       "50%     0.256510   0.000000   9.690000   0.000000   0.538000   6.208500   \n",
       "75%     3.677082  12.500000  18.100000   0.000000   0.624000   6.623500   \n",
       "max    88.976200 100.000000  27.740000   1.000000   0.871000   8.780000   \n",
       "\n",
       "             AGE        DIS        RAD        TAX    PTRATIO          B  \\\n",
       "count 506.000000 506.000000 506.000000 506.000000 506.000000 506.000000   \n",
       "mean   68.574901   3.795043   9.549407 408.237154  18.455534 356.674032   \n",
       "std    28.148861   2.105710   8.707259 168.537116   2.164946  91.294864   \n",
       "min     2.900000   1.129600   1.000000 187.000000  12.600000   0.320000   \n",
       "25%    45.025000   2.100175   4.000000 279.000000  17.400000 375.377500   \n",
       "50%    77.500000   3.207450   5.000000 330.000000  19.050000 391.440000   \n",
       "75%    94.075000   5.188425  24.000000 666.000000  20.200000 396.225000   \n",
       "max   100.000000  12.126500  24.000000 711.000000  22.000000 396.900000   \n",
       "\n",
       "           LSTAT       MEDV  \n",
       "count 506.000000 506.000000  \n",
       "mean   12.653063  22.532806  \n",
       "std     7.141062   9.197104  \n",
       "min     1.730000   5.000000  \n",
       "25%     6.950000  17.025000  \n",
       "50%    11.360000  21.200000  \n",
       "75%    16.955000  25.000000  \n",
       "max    37.970000  50.000000  "
      ]
     },
     "execution_count": 32,
     "metadata": {},
     "output_type": "execute_result"
    }
   ],
   "source": [
    "# Upper case all data frame column names\n",
    "data.columns=map(str.upper, data.columns)\n",
    "\n",
    "#check dimensions of data set\n",
    "(rows,features)= data.shape\n",
    "print \"Number of rows in data set - \", rows\n",
    "print \"Number of features in data set - \",features\n",
    "print data.head(10)\n",
    "data.describe()"
   ]
  },
  {
   "cell_type": "markdown",
   "metadata": {},
   "source": [
    " Attribute Information:\n",
    "\n",
    "    1. CRIM      per capita crime rate by town\n",
    "    2. ZN        proportion of residential land zoned for lots over \n",
    "                 25,000 sq.ft.\n",
    "    3. INDUS     proportion of non-retail business acres per town\n",
    "    4. CHAS      Charles River dummy variable (= 1 if tract bounds \n",
    "                 river; 0 otherwise)\n",
    "    5. NOX       nitric oxides concentration (parts per 10 million)\n",
    "    6. RM        average number of rooms per dwelling\n",
    "    7. AGE       proportion of owner-occupied units built prior to 1940\n",
    "    8. DIS       weighted distances to five Boston employment centres\n",
    "    9. RAD       index of accessibility to radial highways\n",
    "    10. TAX      full-value property-tax rate per $10,000\n",
    "    11. PTRATIO  pupil-teacher ratio by town\n",
    "    12. B        1000(Bk - 0.63)^2 where Bk is the proportion of blacks \n",
    "                 by town\n",
    "    13. LSTAT    % lower status of the population\n",
    "    14. MEDV     Median value of owner-occupied homes in $1000's"
   ]
  },
  {
   "cell_type": "code",
   "execution_count": 33,
   "metadata": {
    "collapsed": false
   },
   "outputs": [
    {
     "name": "stdout",
     "output_type": "stream",
     "text": [
      "Index([u'CRIM', u'ZN', u'INDUS', u'CHAS', u'NOX', u'RM', u'AGE', u'DIS',\n",
      "       u'RAD', u'TAX', u'PTRATIO', u'B', u'LSTAT', u'MEDV'],\n",
      "      dtype='object')\n"
     ]
    }
   ],
   "source": [
    "print data.columns"
   ]
  },
  {
   "cell_type": "code",
   "execution_count": 34,
   "metadata": {
    "collapsed": false
   },
   "outputs": [],
   "source": [
    "data=data[[\"AGE\",\"MEDV\"]]"
   ]
  },
  {
   "cell_type": "code",
   "execution_count": 35,
   "metadata": {
    "collapsed": false
   },
   "outputs": [
    {
     "name": "stdout",
     "output_type": "stream",
     "text": [
      "Index([u'AGE', u'MEDV'], dtype='object')\n",
      "         AGE      MEDV\n",
      "0  65.200000 24.000000\n",
      "1  78.900000 21.600000\n",
      "2  61.100000 34.700000\n",
      "3  45.800000 33.400000\n",
      "4  54.200000 36.200000\n",
      "5  58.700000 28.700000\n",
      "6  66.600000 22.900000\n",
      "7  96.100000 27.100000\n",
      "8 100.000000 16.500000\n",
      "9  85.900000 18.900000\n"
     ]
    }
   ],
   "source": [
    "print data.columns\n",
    "print data.head(10)"
   ]
  },
  {
   "cell_type": "code",
   "execution_count": 36,
   "metadata": {
    "collapsed": false
   },
   "outputs": [],
   "source": [
    "# As suggested in the session, centering explanatory variable around its mean\n",
    "data[[\"AGE\"]]= data[[\"AGE\"]] - data[[\"AGE\"]].mean()"
   ]
  },
  {
   "cell_type": "code",
   "execution_count": 37,
   "metadata": {
    "collapsed": false
   },
   "outputs": [
    {
     "data": {
      "text/html": [
       "<div>\n",
       "<table border=\"1\" class=\"dataframe\">\n",
       "  <thead>\n",
       "    <tr style=\"text-align: right;\">\n",
       "      <th></th>\n",
       "      <th>AGE</th>\n",
       "      <th>MEDV</th>\n",
       "    </tr>\n",
       "  </thead>\n",
       "  <tbody>\n",
       "    <tr>\n",
       "      <th>0</th>\n",
       "      <td>-3.374901</td>\n",
       "      <td>24.000000</td>\n",
       "    </tr>\n",
       "    <tr>\n",
       "      <th>1</th>\n",
       "      <td>10.325099</td>\n",
       "      <td>21.600000</td>\n",
       "    </tr>\n",
       "    <tr>\n",
       "      <th>2</th>\n",
       "      <td>-7.474901</td>\n",
       "      <td>34.700000</td>\n",
       "    </tr>\n",
       "    <tr>\n",
       "      <th>3</th>\n",
       "      <td>-22.774901</td>\n",
       "      <td>33.400000</td>\n",
       "    </tr>\n",
       "    <tr>\n",
       "      <th>4</th>\n",
       "      <td>-14.374901</td>\n",
       "      <td>36.200000</td>\n",
       "    </tr>\n",
       "    <tr>\n",
       "      <th>5</th>\n",
       "      <td>-9.874901</td>\n",
       "      <td>28.700000</td>\n",
       "    </tr>\n",
       "    <tr>\n",
       "      <th>6</th>\n",
       "      <td>-1.974901</td>\n",
       "      <td>22.900000</td>\n",
       "    </tr>\n",
       "    <tr>\n",
       "      <th>7</th>\n",
       "      <td>27.525099</td>\n",
       "      <td>27.100000</td>\n",
       "    </tr>\n",
       "    <tr>\n",
       "      <th>8</th>\n",
       "      <td>31.425099</td>\n",
       "      <td>16.500000</td>\n",
       "    </tr>\n",
       "    <tr>\n",
       "      <th>9</th>\n",
       "      <td>17.325099</td>\n",
       "      <td>18.900000</td>\n",
       "    </tr>\n",
       "  </tbody>\n",
       "</table>\n",
       "</div>"
      ],
      "text/plain": [
       "         AGE      MEDV\n",
       "0  -3.374901 24.000000\n",
       "1  10.325099 21.600000\n",
       "2  -7.474901 34.700000\n",
       "3 -22.774901 33.400000\n",
       "4 -14.374901 36.200000\n",
       "5  -9.874901 28.700000\n",
       "6  -1.974901 22.900000\n",
       "7  27.525099 27.100000\n",
       "8  31.425099 16.500000\n",
       "9  17.325099 18.900000"
      ]
     },
     "execution_count": 37,
     "metadata": {},
     "output_type": "execute_result"
    }
   ],
   "source": [
    "data.head(10)"
   ]
  },
  {
   "cell_type": "code",
   "execution_count": 40,
   "metadata": {
    "collapsed": false
   },
   "outputs": [
    {
     "data": {
      "text/plain": [
       "AGE   -0.000000\n",
       "dtype: float64"
      ]
     },
     "execution_count": 40,
     "metadata": {},
     "output_type": "execute_result"
    }
   ],
   "source": [
    "data[[\"AGE\"]].mean()"
   ]
  },
  {
   "cell_type": "markdown",
   "metadata": {},
   "source": [
    "## Build model"
   ]
  },
  {
   "cell_type": "code",
   "execution_count": 46,
   "metadata": {
    "collapsed": false
   },
   "outputs": [],
   "source": [
    "import statsmodels.api\n",
    "import statsmodels.formula.api as smf\n",
    "import seaborn"
   ]
  },
  {
   "cell_type": "code",
   "execution_count": 47,
   "metadata": {
    "collapsed": false
   },
   "outputs": [
    {
     "name": "stdout",
     "output_type": "stream",
     "text": [
      "Axes(0.125,0.125;0.775x0.775)\n"
     ]
    },
    {
     "name": "stderr",
     "output_type": "stream",
     "text": [
      "C:\\Users\\212458098\\AppData\\Local\\Continuum\\Anaconda\\lib\\site-packages\\matplotlib\\collections.py:590: FutureWarning: elementwise comparison failed; returning scalar instead, but in the future will perform elementwise comparison\n",
      "  if self._edgecolors == str('face'):\n"
     ]
    },
    {
     "data": {
      "image/png": "[encoded data removed]",
      "text/plain": [
       "<matplotlib.figure.Figure at 0x10d5deb0>"
      ]
     },
     "metadata": {},
     "output_type": "display_data"
    }
   ],
   "source": [
    "scat1 = seaborn.regplot(x=\"AGE\", y=\"MEDV\", scatter=True, data=data)\n",
    "plt.xlabel('% of units built prior to 1940')\n",
    "plt.ylabel('Median House value')\n",
    "plt.title ('Scatterplot for the Association Between % of units built prior to 1940 and house value')\n",
    "print(scat1)\n"
   ]
  },
  {
   "cell_type": "code",
   "execution_count": 48,
   "metadata": {
    "collapsed": false
   },
   "outputs": [
    {
     "name": "stdout",
     "output_type": "stream",
     "text": [
      "OLS regression model for the association between % of units built prior to 1940 and house value\n",
      "                            OLS Regression Results                            \n",
      "==============================================================================\n",
      "Dep. Variable:                    AGE   R-squared:                       0.142\n",
      "Model:                            OLS   Adj. R-squared:                  0.140\n",
      "Method:                 Least Squares   F-statistic:                     83.48\n",
      "Date:                Mon, 13 Mar 2017   Prob (F-statistic):           1.57e-18\n",
      "Time:                        21:27:39   Log-Likelihood:                -2367.5\n",
      "No. Observations:                 506   AIC:                             4739.\n",
      "Df Residuals:                     504   BIC:                             4747.\n",
      "Df Model:                           1                                         \n",
      "Covariance Type:            nonrobust                                         \n",
      "==============================================================================\n",
      "                 coef    std err          t      P>|t|      [95.0% Conf. Int.]\n",
      "------------------------------------------------------------------------------\n",
      "Intercept     25.9964      3.073      8.460      0.000        19.959    32.033\n",
      "MEDV          -1.1537      0.126     -9.137      0.000        -1.402    -0.906\n",
      "==============================================================================\n",
      "Omnibus:                       19.086   Durbin-Watson:                   0.460\n",
      "Prob(Omnibus):                  0.000   Jarque-Bera (JB):               17.357\n",
      "Skew:                          -0.394   Prob(JB):                     0.000170\n",
      "Kurtosis:                       2.551   Cond. No.                         64.5\n",
      "==============================================================================\n",
      "\n",
      "Warnings:\n",
      "[1] Standard Errors assume that the covariance matrix of the errors is correctly specified.\n"
     ]
    }
   ],
   "source": [
    "print (\"OLS regression model for the association between % of units built prior to 1940 and house value\")\n",
    "reg1 = smf.ols('AGE ~ MEDV', data=data).fit()\n",
    "print (reg1.summary())"
   ]
  }
 ],
 "metadata": {
  "kernelspec": {
   "display_name": "Python 2",
   "language": "python",
   "name": "python2"
  },
  "language_info": {
   "codemirror_mode": {
    "name": "ipython",
    "version": 2
   },
   "file_extension": ".py",
   "mimetype": "text/x-python",
   "name": "python",
   "nbconvert_exporter": "python",
   "pygments_lexer": "ipython2",
   "version": "2.7.11"
  }
 },
 "nbformat": 4,
 "nbformat_minor": 0
}
